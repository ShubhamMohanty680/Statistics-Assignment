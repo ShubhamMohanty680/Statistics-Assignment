{
 "cells": [
  {
   "cell_type": "markdown",
   "id": "837bb7a9",
   "metadata": {},
   "source": [
    "# Q.1"
   ]
  },
  {
   "cell_type": "markdown",
   "id": "1e52cfd8",
   "metadata": {},
   "source": [
    "A Probability Density Function (PDF) is a mathematical function that describes the relative likelihood of a continuous random variable taking on a given value. The PDF represents the distribution of probabilities for all possible values of the random variable, and the area under the curve of the PDF between any two values of the variable gives the probability of the variable taking a value within that range.\n",
    "\n",
    "Mathematically, the PDF is defined as the derivative of the cumulative distribution function (CDF) of the random variable. The PDF is non-negative and integrates to one over the entire range of the random variable."
   ]
  },
  {
   "cell_type": "markdown",
   "id": "430e9bf8",
   "metadata": {},
   "source": [
    "# Q.2"
   ]
  },
  {
   "cell_type": "markdown",
   "id": "c7d4dd3f",
   "metadata": {},
   "source": [
    "There are many types of probability distributions, but some of the most commonly used distributions are:\n",
    "\n",
    "1.Normal Distribution: The normal distribution is a bell-shaped, continuous distribution that is often used to model naturally occurring phenomena, such as height or weight. It is characterized by its mean (μ) and standard deviation (σ), which determine the shape and location of the distribution.\n",
    "\n",
    "2.Bernoulli Distribution: The Bernoulli distribution is a discrete probablity distribution model of random variable in which it takes the value 1 with the probablity p and the value 0 with the probablity q=1-p.\n",
    "\n",
    "3.Binomial Distribution: The binomial distribution is a discrete probability distribution that models the number of successes in a fixed number of independent trials. It is characterized by two parameters: the probability of success (p) and the number of trials (n).\n",
    "\n",
    "4.Poisson Distribution: The Poisson distribution is a discrete probability distribution that models the number of events that occur in a fixed interval of time or space. It is characterized by one parameter, λ, which represents the average number of events that occur in the interval.\n",
    "\n",
    "5.Uniform Distribution: The uniform distribution is a continuous probability distribution that models outcomes that are equally likely to occur within a given range. It is characterized by two parameters: the minimum and maximum values of the range."
   ]
  },
  {
   "cell_type": "markdown",
   "id": "e5808ff3",
   "metadata": {},
   "source": [
    "# Q.3"
   ]
  },
  {
   "cell_type": "code",
   "execution_count": 11,
   "id": "ff874838",
   "metadata": {},
   "outputs": [],
   "source": [
    "from scipy.stats import norm\n",
    "import numpy as np\n",
    "def prob_pdf():\n",
    "    data_start = -5\n",
    "    data_end = 5\n",
    "    data_points = 11\n",
    "    data = np.linspace(data_start, data_end, data_points)\n",
    "\n",
    "    mean = np.mean(data)\n",
    "    std = np.std(data)\n",
    "\n",
    "    probability_pdf = norm.pdf(3, loc=mean, scale=std)\n",
    "    print(probability_pdf)\n"
   ]
  },
  {
   "cell_type": "code",
   "execution_count": 12,
   "id": "417bd565",
   "metadata": {},
   "outputs": [
    {
     "name": "stdout",
     "output_type": "stream",
     "text": [
      "0.0804410163156249\n"
     ]
    }
   ],
   "source": [
    "prob_pdf()"
   ]
  },
  {
   "cell_type": "markdown",
   "id": "4774cbbc",
   "metadata": {},
   "source": [
    "# Q.4"
   ]
  },
  {
   "cell_type": "markdown",
   "id": "d95fbb2e",
   "metadata": {},
   "source": [
    "The binomial distribution is a discrete probability distribution that describes the number of successes in a fixed number of independent trials, where each trial has only two possible outcomes (success or failure), and the probability of success is constant for each trial.\n",
    "\n",
    "Properties:\n",
    "\n",
    "1.There are a fixed number of trials (n).<br>\n",
    "2.Each trial has only two possible outcomes (success or failure).<br>\n",
    "3.The trials are independent of each other.<br>\n",
    "4.It is used for discrete random variables.<br>\n",
    "5.PMF(Probablity Mass Function) is used to find the probablity distribution.<br>\n",
    "6.The random variable X, which represents the number of successes in n trials, has a binomial distribution.<br>\n",
    "\n",
    "Examples:\n",
    "\n",
    "1.Flipping a coin: If you flip a fair coin (with an equal probability of heads or tails) 10 times, you can use the binomial distribution to calculate the probability of getting a certain number of heads (or tails) out of those 10 flips.\n",
    "\n",
    "2.Quality control: A company produces light bulbs, and they want to know the probability that a batch of 100 bulbs will have more than 10 defective bulbs. They can use the binomial distribution to model the probability of each bulb being defective, and then use that to calculate the probability of getting more than 10 defective bulbs in the batch."
   ]
  },
  {
   "cell_type": "markdown",
   "id": "169bed79",
   "metadata": {},
   "source": [
    "# Q.5"
   ]
  },
  {
   "cell_type": "code",
   "execution_count": 20,
   "id": "98a8c478",
   "metadata": {},
   "outputs": [
    {
     "data": {
      "image/png": "[encoded data removed]",
      "text/plain": [
       "<Figure size 640x480 with 1 Axes>"
      ]
     },
     "metadata": {},
     "output_type": "display_data"
    }
   ],
   "source": [
    "import numpy as np\n",
    "import matplotlib.pyplot as plt\n",
    "\n",
    "# Set the parameters of the binomial distribution\n",
    "n = 10 # n is the  number of bins\n",
    "p = 0.4 # p is the probablity sucess\n",
    "\n",
    "# Generate a random sample of size 1000 from the binomial distribution\n",
    "sample = np.random.binomial(n, p, size=1000)\n",
    "\n",
    "# Plot a histogram of the results\n",
    "plt.hist(sample, bins=range(n+1), align='left', rwidth=0.8)\n",
    "plt.xticks(range(n))\n",
    "plt.xlabel('Number of Successes')\n",
    "plt.ylabel('Frequency')\n",
    "plt.title('Histogram of Binomial Distribution (n={}, p={})'.format(n, p))\n",
    "plt.show()"
   ]
  },
  {
   "cell_type": "markdown",
   "id": "e42c289e",
   "metadata": {},
   "source": [
    "# Q.6"
   ]
  },
  {
   "cell_type": "code",
   "execution_count": 23,
   "id": "71ca7d1b",
   "metadata": {},
   "outputs": [
    {
     "name": "stdout",
     "output_type": "stream",
     "text": [
      "The cumulative distribution function of a Poisson distribution with mean 2.5 at point 3 is 0.7576\n"
     ]
    }
   ],
   "source": [
    "import math\n",
    "\n",
    "def poisson_cdf(mu, k):\n",
    "    cdf = 0.0\n",
    "    for i in range(k+1):\n",
    "        cdf += math.exp(-mu) * (mu ** i) / math.factorial(i)\n",
    "    return cdf\n",
    "mu = 2.5\n",
    "k = 3\n",
    "cdf = poisson_cdf(mu, k)\n",
    "print(\"The cumulative distribution function of a Poisson distribution with mean {} at point {} is {:.4f}\".format(mu, k, cdf))"
   ]
  },
  {
   "cell_type": "markdown",
   "id": "b75014fe",
   "metadata": {},
   "source": [
    "# Q.7"
   ]
  },
  {
   "cell_type": "markdown",
   "id": "884ff82a",
   "metadata": {},
   "source": [
    "The key differences between the two distributions are:\n",
    "\n",
    "1.Nature of the events: In the Binomial distribution, the events are discrete and have a binary outcome (success or failure), whereas in the Poisson distribution, the events are rare occurrences that can be considered continuous.\n",
    "\n",
    "2.Number of trials/samples: The Binomial distribution models the number of successes in a fixed number of trials or samples, whereas the Poisson distribution models the number of rare events that occur in a fixed interval or sample size.\n",
    "\n",
    "3.Probability of success/rate of occurrence: In the Binomial distribution, the probability of success is constant across trials or samples, whereas in the Poisson distribution, the rate of occurrence is constant over time or space.\n",
    "\n",
    "4.Assumptions: The Binomial distribution assumes that the trials are independent and identically distributed, whereas the Poisson distribution assumes that the rare events occur independently of each other and that the rate of occurrence is constant over time or space."
   ]
  },
  {
   "cell_type": "markdown",
   "id": "54d1cbb8",
   "metadata": {},
   "source": [
    "# Q.8"
   ]
  },
  {
   "cell_type": "code",
   "execution_count": 26,
   "id": "69229269",
   "metadata": {},
   "outputs": [
    {
     "name": "stdout",
     "output_type": "stream",
     "text": [
      "Sample mean: 5.1060\n",
      "Sample variance: 4.9068\n"
     ]
    }
   ],
   "source": [
    "import numpy as np\n",
    "\n",
    "# Generate a random sample of size 1000 from a Poisson distribution with mean 5\n",
    "sample = np.random.poisson(5, size=1000)\n",
    "\n",
    "# Calculate the sample mean and variance\n",
    "mean = np.mean(sample)\n",
    "variance = np.var(sample)\n",
    "\n",
    "print(\"Sample mean: {:.4f}\".format(mean))\n",
    "print(\"Sample variance: {:.4f}\".format(variance))"
   ]
  },
  {
   "cell_type": "markdown",
   "id": "6bf4c81e",
   "metadata": {},
   "source": [
    "# Q.9"
   ]
  },
  {
   "cell_type": "markdown",
   "id": "bffb89af",
   "metadata": {},
   "source": [
    "In both the Binomial and Poisson distributions, the mean and variance are related in a similar way.\n",
    "\n",
    "For the Binomial distribution with parameters n and p, the mean is given by μ = np and the variance is given by σ^2 = np(1-p). Thus, the variance is a function of both the number of trials n and the probability of success p. As p gets closer to 0 or 1, the variance decreases, reflecting the fact that the distribution becomes increasingly concentrated around the mean.\n",
    "\n",
    "For the Poisson distribution with parameter λ, the mean is also given by μ = λ and the variance is also given by σ^2 = λ. Thus, the variance is a function of the rate parameter λ. As λ increases, the variance also increases, reflecting the fact that the distribution becomes more spread out around the mean.\n",
    "\n",
    "In both distributions, when the mean is large, the variance is also large, indicating that the distribution is more spread out. Conversely, when the mean is small, the variance is also small, indicating that the distribution is more tightly clustered around the mean.\n",
    "\n",
    "In summary, for both the Binomial and Poisson distributions, the variance is related to the mean in a way that reflects the degree of spread or concentration of the distribution."
   ]
  },
  {
   "cell_type": "markdown",
   "id": "b15276e1",
   "metadata": {},
   "source": [
    "# Q.10"
   ]
  },
  {
   "cell_type": "markdown",
   "id": "8513efae",
   "metadata": {},
   "source": [
    "In a normal distribution, the least frequent data appears at the tails of the distribution, farthest from the mean. This is because the normal distribution is symmetric and bell-shaped, with the majority of the data clustered around the mean. The tails of the distribution represent the extreme values that are less likely to occur, since they are located far away from the mean."
   ]
  }
 ],
 "metadata": {
  "kernelspec": {
   "display_name": "Python 3 (ipykernel)",
   "language": "python",
   "name": "python3"
  },
  "language_info": {
   "codemirror_mode": {
    "name": "ipython",
    "version": 3
   },
   "file_extension": ".py",
   "mimetype": "text/x-python",
   "name": "python",
   "nbconvert_exporter": "python",
   "pygments_lexer": "ipython3",
   "version": "3.9.12"
  }
 },
 "nbformat": 4,
 "nbformat_minor": 5
}

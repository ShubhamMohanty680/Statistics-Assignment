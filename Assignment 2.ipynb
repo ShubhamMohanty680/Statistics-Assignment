{
 "cells": [
  {
   "cell_type": "markdown",
   "id": "eaa661b8",
   "metadata": {},
   "source": [
    "# Q.1"
   ]
  },
  {
   "cell_type": "markdown",
   "id": "fd42dc46",
   "metadata": {},
   "source": [
    "The three measures of central tendency are:\n",
    "\n",
    "1.Mean: The mean is the arithmetic average of a set of numbers. It is calculated by adding up all the numbers in the set and then dividing the total by the number of items in the set.\n",
    "\n",
    "2.Median: The median is the middle value in a set of numbers that are arranged in order. To find the median, you need to sort the numbers in ascending or descending order and then find the middle value. If there are an even number of values, the median is the average of the two middle values.\n",
    "\n",
    "3.Mode: The mode is the value that occurs most frequently in a set of numbers. A set of numbers can have one mode, more than one mode (if two or more values occur with the same highest frequency), or no mode (if no value occurs more frequently than any other value in the set)."
   ]
  },
  {
   "cell_type": "markdown",
   "id": "09a98437",
   "metadata": {},
   "source": [
    "# Q.2"
   ]
  },
  {
   "cell_type": "markdown",
   "id": "8a6a1e77",
   "metadata": {},
   "source": [
    "The mean, median, and mode are all measures of central tendency, but they differ in how they represent the center of a dataset.\n",
    "\n",
    "The mean is the arithmetic average of a set of values. It is calculated by adding up all the values in the dataset and dividing by the total number of values. The mean is sensitive to extreme values or outliers, which means that a few unusually high or low values can significantly impact the mean.\n",
    "\n",
    "The median is the middle value in a dataset when the values are arranged in order from smallest to largest. If there is an even number of values, the median is the average of the two middle values. The median is a good measure of central tendency when the dataset contains extreme values or outliers, as it is not affected by these values.\n",
    "\n",
    "The mode is the value that appears most frequently in a dataset. A dataset can have more than one mode if there are multiple values that appear with the same frequency. The mode is a good measure of central tendency for categorical data or discrete variables.\n",
    "\n",
    "To measure the central tendency of a dataset, you can use any of these measures depending on the nature of the data and the type of question you are trying to answer. The mean is commonly used for continuous variables that are normally distributed data, while the median is often used for skewed data or when outliers are present. The mode is useful for categorical data or when you want to know the most common value in a dataset."
   ]
  },
  {
   "cell_type": "markdown",
   "id": "dc318b6f",
   "metadata": {},
   "source": [
    "# Q.3"
   ]
  },
  {
   "cell_type": "code",
   "execution_count": 1,
   "id": "10c4ab24",
   "metadata": {},
   "outputs": [
    {
     "name": "stdout",
     "output_type": "stream",
     "text": [
      "Mean height is: 177.01875\n",
      "Median height is: 177.0\n",
      "Mode height is: 178\n"
     ]
    }
   ],
   "source": [
    "import statistics \n",
    "\n",
    "height_data = [178,177,176,177,178.2,178,175,179,180,175,178.9,176.2,177,172.5,178,176.5]\n",
    "\n",
    "# calculating the mean\n",
    "mean_height = statistics.mean(height_data)\n",
    "print(\"Mean height is:\", mean_height)\n",
    "\n",
    "# calculating the median\n",
    "median_height = statistics.median(height_data)\n",
    "print(\"Median height is:\", median_height)\n",
    "\n",
    "# calculating the mode\n",
    "mode_height = statistics.mode(height_data)\n",
    "print(\"Mode height is:\", mode_height)"
   ]
  },
  {
   "cell_type": "markdown",
   "id": "771678c4",
   "metadata": {},
   "source": [
    "# Q.4"
   ]
  },
  {
   "cell_type": "code",
   "execution_count": 11,
   "id": "ef8c4674",
   "metadata": {},
   "outputs": [
    {
     "name": "stdout",
     "output_type": "stream",
     "text": [
      "Standard Deviation is: 1.7885814036548633\n"
     ]
    }
   ],
   "source": [
    "import numpy as np\n",
    "\n",
    "height=[178,177,176,177,178.2,178,175,179,180,175,178.9,176.2,177,172.5,178,176.5]\n",
    "\n",
    "#calculating standard deviation\n",
    "std_height=np.std(height)\n",
    "print(\"Standard Deviation is:\",std_height)"
   ]
  },
  {
   "cell_type": "markdown",
   "id": "20db3258",
   "metadata": {},
   "source": [
    "# Q.5"
   ]
  },
  {
   "cell_type": "markdown",
   "id": "0f12be26",
   "metadata": {},
   "source": [
    "Measures of dispersion such as range, variance, and standard deviation are used to describe the spread of a dataset by indicating how spread out or tightly clustered the data points are around the central tendency (mean, median, or mode).\n",
    "\n",
    "The range is the simplest measure of dispersion and is defined as the difference between the largest and smallest values in the dataset. It provides a rough estimate of how much the data points vary from one another.\n",
    "\n",
    "The variance and standard deviation are more precise measures of dispersion that take into account the distance of each data point from the mean. The variance is calculated as the average of the squared deviations from the mean, while the standard deviation is the square root of the variance. A higher variance or standard deviation indicates that the data points are more spread out from the mean, while a lower variance or standard deviation indicates that the data points are more tightly clustered around the mean.\n",
    "\n",
    "For example, consider two datasets of student scores on a test:\n",
    "\n",
    "Dataset 1: [70, 75, 80, 85, 90]  Dataset 2: [60, 70, 80, 90, 100]\n",
    "\n",
    "Both datasets have the same mean score of 80, but they have different spreads of scores. The range of Dataset 1 is 20 (90-70), while the range of Dataset 2 is 40 (100-60), indicating that the scores in Dataset 2 are more spread out. The variance of Dataset 1 is 62.5, and the standard deviation is 7.91, while the variance of Dataset 2 is 200 and the standard deviation is 14.14, again indicating that the scores in Dataset 2 are more spread out. Therefore, measures of dispersion such as range, variance, and standard deviation can provide valuable information about the spread of a dataset and help us better understand the distribution of data points."
   ]
  },
  {
   "cell_type": "markdown",
   "id": "60c0c406",
   "metadata": {},
   "source": [
    "# Q.6"
   ]
  },
  {
   "cell_type": "markdown",
   "id": "36dc8796",
   "metadata": {},
   "source": [
    "A Venn diagram is a visual representation of the relationships between sets of data. It is a diagram that shows all possible logical relations between a finite collection of sets, often represented as circles that overlap or are disjoint. Venn diagrams are commonly used to illustrate simple set relationships in logic, statistics, probability, and computer science.\n",
    "\n",
    "In a Venn diagram, each circle represents a set, and the region where the circles overlap represents the intersection of those sets. The areas outside the circles represent the complement of those sets."
   ]
  },
  {
   "cell_type": "markdown",
   "id": "8c38da52",
   "metadata": {},
   "source": [
    "# Q.7"
   ]
  },
  {
   "cell_type": "code",
   "execution_count": 12,
   "id": "ca575359",
   "metadata": {},
   "outputs": [
    {
     "name": "stdout",
     "output_type": "stream",
     "text": [
      "Intersection of A and B: {2, 6}\n",
      "Union of A and B: {0, 2, 3, 4, 5, 6, 7, 8, 10}\n"
     ]
    }
   ],
   "source": [
    "A = {2, 3, 4, 5, 6, 7}\n",
    "B = {0, 2, 6, 8, 10}\n",
    "\n",
    "# intersection of A and B\n",
    "intersection = A.intersection(B)\n",
    "print(\"Intersection of A and B:\", intersection)\n",
    "\n",
    "# union of A and B\n",
    "union = A.union(B)\n",
    "print(\"Union of A and B:\", union)"
   ]
  },
  {
   "cell_type": "markdown",
   "id": "939921c8",
   "metadata": {},
   "source": [
    "# Q.8"
   ]
  },
  {
   "cell_type": "markdown",
   "id": "c0371486",
   "metadata": {},
   "source": [
    "In statistics, skewness is a measure of the asymmetry of a probability distribution. Skewness refers to the degree to which the data is not symmetrically distributed around the mean. It indicates whether the data is skewed to the left or to the right of the mean.\n",
    "\n",
    "If a distribution is symmetrical, then it has zero skewness. If the tail of the distribution is longer on the right side than on the left side, then the distribution is said to be positively skewed, and it has a positive skewness. On the other hand, if the tail of the distribution is longer on the left side than on the right side, then the distribution is said to be negatively skewed, and it has a negative skewness."
   ]
  },
  {
   "cell_type": "markdown",
   "id": "55472f6d",
   "metadata": {},
   "source": [
    "# Q.9"
   ]
  },
  {
   "cell_type": "markdown",
   "id": "cc98528c",
   "metadata": {},
   "source": [
    "If a data set is right-skewed, it means that the tail of the distribution is longer on the right side, and the data is concentrated on the left side of the distribution. In this case, the mean is greater than the median."
   ]
  },
  {
   "cell_type": "markdown",
   "id": "7fb5f4cd",
   "metadata": {},
   "source": [
    "# Q.10"
   ]
  },
  {
   "cell_type": "markdown",
   "id": "6604f21b",
   "metadata": {},
   "source": [
    "Covariance and correlation are both measures of the relationship between two variables in a dataset. However, there are some key differences between these two measures:\n",
    "\n",
    "1.Definition: Covariance measures the degree to which two variables in a dataset vary together, while correlation measures the strength and direction of the linear relationship between two variables.\n",
    "\n",
    "2.Range of values: Covariance can take on any value between negative infinity and positive infinity, while correlation is limited to values between -1 and 1.\n",
    "\n",
    "3.Interpretation: A positive covariance indicates that two variables tend to increase or decrease together, while a negative covariance indicates that one variable tends to increase while the other variable decreases. However, the strength of covariance is difficult to interpret. On the other hand, correlation provides a clear indication of the strength and direction of the relationship between two variables. A positive correlation means that as one variable increases, the other variable tends to increase, and vice versa. A negative correlation means that as one variable increases, the other variable tends to decrease, and vice versa.\n",
    "\n",
    "4.Unit: Covariance is expressed in the units of the variables being measured, while correlation is unitless, as it measures the relationship between variables relative to their standard deviations.\n",
    "\n",
    "In statistical analysis, covariance and correlation are both used to determine the relationship between two variables. Covariance is used to measure the direction of the linear relationship between two variables, while correlation is used to quantify both the strength and direction of the relationship. Correlation is considered to be a more useful measure than covariance because it is standardized and provides more meaningful results. Correlation is also used to identify relationships between variables in regression analysis, while covariance is used in portfolio analysis to calculate the risk and return of multiple assets."
   ]
  },
  {
   "cell_type": "markdown",
   "id": "e24c3a1b",
   "metadata": {},
   "source": [
    "# Q.11"
   ]
  },
  {
   "cell_type": "markdown",
   "id": "3fa331b3",
   "metadata": {},
   "source": [
    "The formula for calculating the sample mean is:\n",
    "\n",
    "Sample Mean(x̄) = (Sum of all observations) / (Number of observations) In other words, the sample mean is calculated by adding up all the values in a sample and dividing by the number of observations in the sample.\n",
    "\n",
    "Here is an example calculation:\n",
    "\n",
    "Suppose we have the following dataset: [4, 7, 9, 12, 15]\n",
    "\n",
    "To calculate the sample mean, we add up all the values and divide by the number of observations:\n",
    "\n",
    "Sample Mean = (4 + 7 + 9 + 12 + 15) / 5 = 47 / 5 = 9.4\n",
    "\n",
    "Therefore, the sample mean for this dataset is 9.4."
   ]
  },
  {
   "cell_type": "markdown",
   "id": "683041be",
   "metadata": {},
   "source": [
    "# Q.12"
   ]
  },
  {
   "cell_type": "markdown",
   "id": "121e4f3f",
   "metadata": {},
   "source": [
    "For a normal distribution, the mean, median, and mode are all equal. In other words, the measure of central tendency is the same, and they are located at the center of the distribution. This is because a normal distribution is symmetric around its mean, so the middle value (median) is the same as the average value (mean), which is also the most frequent value (mode).\n",
    "\n",
    "This relationship between the mean, median, and mode is a key characteristic of a normal distribution and can be used to identify if a dataset is approximately normally distributed."
   ]
  },
  {
   "cell_type": "markdown",
   "id": "6f8f92ad",
   "metadata": {},
   "source": [
    "# Q.13"
   ]
  },
  {
   "cell_type": "markdown",
   "id": "69e6c9cf",
   "metadata": {},
   "source": [
    "Covariance and correlation are both measures of the relationship between two variables in a dataset. However, there are some key differences between these two measures:\n",
    "\n",
    "1.Definition: Covariance measures the degree to which two variables in a dataset vary together, while correlation measures the strength and direction of the linear relationship between two variables.\n",
    "\n",
    "2.Range of values: Covariance can take on any value between negative infinity and positive infinity, while correlation is limited to values between -1 and 1.\n",
    "\n",
    "3.Interpretation: A positive covariance indicates that two variables tend to increase or decrease together, while a negative covariance indicates that one variable tends to increase while the other variable decreases. However, the strength of covariance is difficult to interpret. On the other hand, correlation provides a clear indication of the strength and direction of the relationship between two variables. A positive correlation means that as one variable increases, the other variable tends to increase, and vice versa. A negative correlation means that as one variable increases, the other variable tends to decrease, and vice versa.\n",
    "\n",
    "4.Unit: Covariance is expressed in the units of the variables being measured, while correlation is unitless, as it measures the relationship between variables relative to their standard deviations."
   ]
  },
  {
   "cell_type": "markdown",
   "id": "fd376625",
   "metadata": {},
   "source": [
    "# Q.14"
   ]
  },
  {
   "cell_type": "markdown",
   "id": "ad22344a",
   "metadata": {},
   "source": [
    "Outliers are extreme values that differ significantly from the other values in a dataset. They can have a significant impact on measures of central tendency and dispersion:\n",
    "\n",
    "1.Measures of central tendency: Outliers can greatly affect the mean, but have little effect on the median and mode. This is because the mean is sensitive to extreme values, and outliers can pull it towards the extreme end of the distribution. For example, consider a dataset of salaries for a company that looks like this:\n",
    "\n",
    "30,000, 35,000, 40,000, 45,000, 50,000, 55,000, 60,000, 75,000, 100,000\n",
    "\n",
    "The mean salary is (30,000+35,000+40,000+45,000+50,000+55,000+60,000+75,000+100,000) / 9 = 54,444. The outlier of 100,000 has pulled the mean towards the upper end of the distribution.\n",
    "\n",
    "2.Measures of dispersion: Outliers can greatly affect measures of dispersion such as range, variance, and standard deviation. For example, consider the same salary dataset as above. The range of salaries is 100,000 - 30,000 = 70,000. However, if we remove the outlier of 100,000, the range becomes 60,000 - 30,000 = 30,000. Similarly, the variance and standard deviation will be larger if the dataset includes an outlier."
   ]
  },
  {
   "cell_type": "code",
   "execution_count": null,
   "id": "1dfc3eea",
   "metadata": {},
   "outputs": [],
   "source": []
  }
 ],
 "metadata": {
  "kernelspec": {
   "display_name": "Python 3 (ipykernel)",
   "language": "python",
   "name": "python3"
  },
  "language_info": {
   "codemirror_mode": {
    "name": "ipython",
    "version": 3
   },
   "file_extension": ".py",
   "mimetype": "text/x-python",
   "name": "python",
   "nbconvert_exporter": "python",
   "pygments_lexer": "ipython3",
   "version": "3.9.12"
  }
 },
 "nbformat": 4,
 "nbformat_minor": 5
}

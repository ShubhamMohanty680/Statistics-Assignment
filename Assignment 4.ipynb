{
 "cells": [
  {
   "cell_type": "markdown",
   "id": "3bd764a8",
   "metadata": {},
   "source": [
    "# Q.1"
   ]
  },
  {
   "cell_type": "markdown",
   "id": "599e2356",
   "metadata": {},
   "source": [
    "Probability Mass Function (PMF) and Probability Density Function (PDF) are both ways of describing the probability distribution of a random variable.\n",
    "\n",
    "1.Probability Mass Function (PMF):\n",
    "\n",
    "A Probability Mass Function (PMF) is a function that gives the probability that a discrete random variable is exactly equal to a certain value. In other words, the PMF gives the probability mass at each possible value of the random variable. The PMF is often denoted as P(X=x), where X is the random variable and x is a possible value that X can take.\n",
    "\n",
    "For example, Consider the roll of a fair six-sided die. The possible values that the die can take are 1, 2, 3, 4, 5, and 6, each with a probability of 1/6. The PMF of the random variable X, which represents the number on the top face of the die, is:\n",
    "\n",
    "PMF(1) = 1/6, PMF(2) = 1/6, PMF(3) = 1/6, PMF(4) = 1/6, PMF(5) = 1/6, PMF(6) = 1/6\n",
    "\n",
    "2.Probability Density Function (PDF):\n",
    "\n",
    "A Probability Density Function (PDF), on the other hand, is a function that describes the relative likelihood that a continuous random variable takes on a certain value. In other words, the PDF gives the density of probability per unit of the random variable. The area under the curve of the PDF over a certain interval gives the probability of the random variable falling within that interval. The PDF is often denoted as f(X), where X is the random variable.\n",
    "\n",
    "For example, consider a continuous random variable X that follows a normal distribution with mean 0 and standard deviation 1. The PDF of X is:\n",
    "\n",
    "f(X) = (1 / sqrt(2π)) * exp(-X^2/2)"
   ]
  },
  {
   "cell_type": "markdown",
   "id": "4a8ba469",
   "metadata": {},
   "source": [
    "# Q.2"
   ]
  },
  {
   "cell_type": "markdown",
   "id": "138ba7c5",
   "metadata": {},
   "source": [
    "The Cumulative Density Function (CDF) is a function that describes the probability that a random variable X is less than or equal to a certain value x. In other words, the CDF of X gives the cumulative probability of X taking on a value less than or equal to x. The CDF is often denoted as F(x), where X is the random variable and x is a value that X can take.\n",
    "\n",
    "For example, consider a continuous random variable X that follows a uniform distribution on the interval [0,1]. The CDF of X is:\n",
    "\n",
    "F(x) = 0, if x < 0 F(x) = x, if 0 ≤ x < 1 F(x) = 1, if x ≥ 1\n",
    "\n",
    "<b>Example</b>: Consider the roll of a fair six-sided die. The possible values that the die can take are 1, 2, 3, 4, 5, and 6, each with a probability of 1/6.\n",
    "The CDF of the random variable X, which represents the number on the top face of the die, is:\n",
    "\n",
    "F(x) = P(X ≤ x)\n",
    "\n",
    "= 0 for x < 1 <br>\n",
    "= 1/6 for 1 ≤ x < 2<br>\n",
    "= 2/6 for 2 ≤ x < 3<br>\n",
    "= 3/6 for 3 ≤ x < 4<br>\n",
    "= 4/6 for 4 ≤ x < 5<br>\n",
    "= 5/6 for 5 ≤ x < 6<br>\n",
    "= 1 for x ≥ 6<br>"
   ]
  },
  {
   "cell_type": "markdown",
   "id": "be1c7137",
   "metadata": {},
   "source": [
    "# Q.3"
   ]
  },
  {
   "cell_type": "markdown",
   "id": "02a649a5",
   "metadata": {},
   "source": [
    "Some examples of situations where the normal distribution might be used as a model include:\n",
    "\n",
    "1.<b>Heights or weights of a population:</b> The normal distribution can be used to model the distribution of heights or weights of a population.<br>\n",
    "2.<b>Test scores:</b> The normal distribution can be used to model the distribution of test scores in a population.<br>\n",
    "3.<b>Measurement errors:</b> The normal distribution can be used to model the distribution of errors in measurements, such as errors in laboratory measurements.<br>\n",
    "4.<b>IQ scores:</b> IQ scores also tend to follow a normal distribution, with most people having a score near the mean and fewer people having scores at the extremes of the distribution.\n",
    "\n",
    "The normal distribution is a symmetric distribution, which means that the mean, median, and mode are all equal. The shape of the distribution is bell-shaped, and the total area under the curve is equal to 1. The standard normal distribution is a special case of the normal distribution with a mean of 0 and a standard deviation of 1 which is calculated using z score.\n",
    "The normal distribution is often used as a model in statistical analysis because of its properties, such as the central limit theorem, which states that the sum of a large number of independent and identically distributed random variables will tend to a normal distribution.\n",
    "\n",
    "The parameters of the normal distribution, namely the mean and the standard deviation, determine the shape of the distribution. If the mean increases, the distribution shifts to the right, and if the mean decreases, the distribution shifts to the left. If the standard deviation increases, the distribution becomes more spread out or wider, and if the standard deviation decreases, the distribution becomes more narrow. The mean and standard deviation also determine the height and shape of the bell curve. For example, a larger mean would result in a taller and narrower curve, while a smaller mean would result in a shorter and wider curve."
   ]
  },
  {
   "cell_type": "markdown",
   "id": "e421ed64",
   "metadata": {},
   "source": [
    "# Q.4"
   ]
  },
  {
   "cell_type": "markdown",
   "id": "52047ec6",
   "metadata": {},
   "source": [
    "The importance of the normal distribution can be explained as follows:\n",
    "\n",
    "1.<b>Symmetrical Distribution:</b> A symmetrical distribution occurs when the values of variables appear at regular frequencies and often the mean, median, and mode all occur at the same point.It makes spread of data equal between both the ends of the tail.This shape is useful because it can be used to describe many populations, from classroom grades to heights and weights.<br>\n",
    "2.<b>Statistical inference:</b> The normal distribution is used extensively in statistical inference, which involves drawing conclusions about a population based on a sample of data. Many statistical tests, such as the t-test and ANOVA, assume that the data follow a normal distribution.<br>\n",
    "3.<b>Central limit theorem:</b> The central limit theorem states that the sum of a large number of independent and identically distributed random variables will tend to a normal distribution, regardless of the distribution of the individual variables. This property makes the normal distribution a fundamental concept in probability theory and statistics.<br>\n",
    "\n",
    "Some real-life examples of the normal distribution are:\n",
    "\n",
    "1.<b>Heights of adults:</b> The heights of adults in a population follow a normal distribution, with a mean of around 5 feet 7 inches and a standard deviation of around 3 inches.<br>\n",
    "2.<b>Test scores:</b> The scores on a standardized test, such as the SAT or GRE, follow a normal distribution, with a mean of around 500-600 and a standard deviation of around 100-200.<br>\n",
    "3.<b>Body temperature:</b> The body temperature of a healthy human follows a normal distribution, with a mean of around 98.6 degrees Fahrenheit and a standard deviation of around 0.5 degrees.<br>"
   ]
  },
  {
   "cell_type": "markdown",
   "id": "9a0ae22a",
   "metadata": {},
   "source": [
    "# Q.5"
   ]
  },
  {
   "cell_type": "markdown",
   "id": "7a212b85",
   "metadata": {},
   "source": [
    "The Bernoulli distribution is a discrete probability distribution that models the outcome of a single binary event. It takes a single parameter p, which represents the probability of success for the event, and outputs a probability distribution for the event's outcomes.\n",
    "\n",
    "<b>Example:</b> Consider flipping a fair coin. The Bernoulli distribution models this as a binary event where the outcome is either heads or tails. If we define \"success\" as getting heads, then the probability of success is 0.5, and the probability of failure (getting tails) is also 0.5. The Bernoulli distribution would output a probability distribution where the probability of success is 0.5 and the probability of failure is 0.5.\n",
    "\n",
    "The key difference between the Bernoulli distribution and the binomial distribution is that the Bernoulli distribution models the outcome of a single event, while the binomial distribution models the number of successes in a fixed number of 'n' independent and identical Bernoulli trials. In other words, the binomial distribution is the sum of multiple independent Bernoulli random variables."
   ]
  },
  {
   "cell_type": "markdown",
   "id": "ae6d310c",
   "metadata": {},
   "source": [
    "# Q.6"
   ]
  },
  {
   "cell_type": "markdown",
   "id": "b09135ab",
   "metadata": {},
   "source": [
    "To find the probability that a randomly selected observation from a normally distributed dataset with a mean of 50 and standard deviation of 10 will be greater than 60, we can use the standard normal distribution and standardize the value of 60 using the z-score formula:\n",
    "\n",
    "z = (x - μ) / σ\n",
    "\n",
    "where z is the standardized score, x is the observation, μ is the mean, and σ is the standard deviation.\n",
    "\n",
    "In this case, we have:\n",
    "\n",
    "z = (60 - 50) / 10 = 1\n",
    "\n",
    "Now, we need to use the z-table to find the probability that a z-score is greater than 1.\n",
    "\n",
    "Using the z-table, we look up the probability corresponding to a z-score of 1.00 in the positive z-score column. The table tells us that the probability is 0.8413.\n",
    "\n",
    "The probabilty that we got from z-table is the probability of randomly selected number less than 60, because z-table gives us the probability of the values on the left side of 60. But we need the values on the right side (greater than 60) of 60. So we can get that probability by subtracting 0.8413 from 1 as:\n",
    "\n",
    "1 - 0.8413 = 0.1587\n",
    "\n",
    "Therefore, the probability that a randomly selected observation from the normally distributed dataset with a mean of 50 and standard deviation of 10 will be greater than 60 is approximately 0.1587 or 15.87%."
   ]
  },
  {
   "cell_type": "markdown",
   "id": "3892b32d",
   "metadata": {},
   "source": [
    "# Q.7"
   ]
  },
  {
   "cell_type": "markdown",
   "id": "b69aeeba",
   "metadata": {},
   "source": [
    "Uniform distribution, also known as a rectangular distribution, is a probability distribution where all possible outcomes are equally likely to occur. It is often used in statistics to model situations where each outcome is equally likely to occur, such as rolling a fair die or picking a card from a well-shuffled deck.\n",
    "\n",
    "For example, let's say we have a fair six-sided die. When we roll the die, the outcome can be any number between 1 and 6, and each outcome has an equal probability of occurring. Therefore, the distribution of outcomes is uniform.\n",
    "\n",
    "We can represent the uniform distribution mathematically as:\n",
    "\n",
    "f(x) = 1 / (b - a)\n",
    "\n",
    "where f(x) is the probability density function, a is the minimum value in the range, and b is the maximum value in the range.\n",
    "\n",
    "For example, if we consider a uniform distribution between 0 and 10, the probability density function would be:\n",
    "\n",
    "f(x) = 1 / (10 - 0) = 0.1\n",
    "\n",
    "This means that the probability of getting any value between 0 and 10 is the same and equal to 0.1."
   ]
  },
  {
   "cell_type": "markdown",
   "id": "05dcf5cf",
   "metadata": {},
   "source": [
    "# Q.8"
   ]
  },
  {
   "cell_type": "markdown",
   "id": "f83b8103",
   "metadata": {},
   "source": [
    "A z-score, also known as a standard score, is a statistical measure that represents the number of standard deviations a data point is from the mean of its population. It is calculated by subtracting the mean of the population from the data point and dividing the result by the standard deviation of the population.\n",
    "\n",
    "The formula for calculating the z-score of a data point is:\n",
    "z = (x - μ) / σ\n",
    "where x is the data point, μ is the mean of the distribution, and σ is the standard deviation.\n",
    "\n",
    "<b>Importance:</b>\n",
    "\n",
    "1.The z-score is important because it allows us to standardize data from different distributions, which can then be compared and analyzed more easily. By converting data into z-scores, we can compare observations from different samples or populations and make meaningful statements about their relative positions.<br>\n",
    "2.The z-score is also useful in hypothesis testing, where it is used to calculate the probability of observing a value as extreme as the one observed, assuming a certain null hypothesis."
   ]
  },
  {
   "cell_type": "markdown",
   "id": "7117f815",
   "metadata": {},
   "source": [
    "# Q.9"
   ]
  },
  {
   "cell_type": "markdown",
   "id": "f2cea08b",
   "metadata": {},
   "source": [
    "The Central Limit Theorem (CLT) is a fundamental result in probability theory and statistics that describes the behavior of the sum or average of a large number of independent and identically distributed random variables. It states that, under certain conditions, the sum or average of such variables will converge to a normal distribution, regardless of the distribution of the individual variables.\n",
    "\n",
    "The significance of the Central Limit Theorem is that it allows us to make inferences about a population using a sample, without having to know the underlying distribution of the population. This is because the CLT ensures that the sample mean will be approximately normally distributed, and we can use this fact to construct confidence intervals and perform hypothesis testing.\n",
    "\n",
    "For example, suppose we want to estimate the mean height of all students in a university, but we cannot measure the height of every student. Instead, we take a random sample of 100 students and calculate the sample mean. By the Central Limit Theorem, we know that the distribution of the sample mean will be approximately normal, regardless of the distribution of heights in the population. This allows us to make inferences about the population mean height based on our sample mean and standard error."
   ]
  },
  {
   "cell_type": "markdown",
   "id": "93f44b93",
   "metadata": {},
   "source": [
    "# Q.10"
   ]
  },
  {
   "cell_type": "markdown",
   "id": "8bf88404",
   "metadata": {},
   "source": [
    "The Central Limit Theorem (CLT) relies on the following assumptions:\n",
    "\n",
    "1.Independence: The samples or observations are independent of each other.<br>\n",
    "2.Sample size: The sample size is sufficiently large. While there is no hard and fast rule for the minimum sample size, a commonly used rule of thumb is that the sample size should be at least 30.<br>\n",
    "3.Identically distributed: The samples or observations are drawn from the same population, and therefore have the same mean and standard deviation.<br>\n",
    "4.Finite variance: The population from which the samples are drawn must have a finite variance.<br>\n",
    "\n",
    "If these assumptions are met, then the sample means will converge to a normal distribution, regardless of the underlying distribution of the population. It is important to note that violating these assumptions can lead to inaccurate conclusions and the CLT may not hold."
   ]
  }
 ],
 "metadata": {
  "kernelspec": {
   "display_name": "Python 3 (ipykernel)",
   "language": "python",
   "name": "python3"
  },
  "language_info": {
   "codemirror_mode": {
    "name": "ipython",
    "version": 3
   },
   "file_extension": ".py",
   "mimetype": "text/x-python",
   "name": "python",
   "nbconvert_exporter": "python",
   "pygments_lexer": "ipython3",
   "version": "3.9.12"
  }
 },
 "nbformat": 4,
 "nbformat_minor": 5
}
